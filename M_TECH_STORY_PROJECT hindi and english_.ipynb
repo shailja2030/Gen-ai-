{
  "nbformat": 4,
  "nbformat_minor": 0,
  "metadata": {
    "colab": {
      "provenance": []
    },
    "kernelspec": {
      "name": "python3",
      "display_name": "Python 3"
    },
    "language_info": {
      "name": "python"
    }
  },
  "cells": [
    {
      "cell_type": "code",
      "source": [
        "pip install cohere"
      ],
      "metadata": {
        "colab": {
          "base_uri": "https://localhost:8080/"
        },
        "id": "95muHXfX-8_O",
        "outputId": "37e22991-8ef7-4185-a1e4-08b5c4bbf6c0"
      },
      "execution_count": 1,
      "outputs": [
        {
          "output_type": "stream",
          "name": "stdout",
          "text": [
            "Collecting cohere\n",
            "  Downloading cohere-5.6.2-py3-none-any.whl.metadata (3.3 kB)\n",
            "Collecting boto3<2.0.0,>=1.34.0 (from cohere)\n",
            "  Downloading boto3-1.34.149-py3-none-any.whl.metadata (6.6 kB)\n",
            "Collecting fastavro<2.0.0,>=1.9.4 (from cohere)\n",
            "  Downloading fastavro-1.9.5-cp310-cp310-manylinux_2_17_x86_64.manylinux2014_x86_64.whl.metadata (5.5 kB)\n",
            "Collecting httpx>=0.21.2 (from cohere)\n",
            "  Downloading httpx-0.27.0-py3-none-any.whl.metadata (7.2 kB)\n",
            "Collecting httpx-sse<0.5.0,>=0.4.0 (from cohere)\n",
            "  Downloading httpx_sse-0.4.0-py3-none-any.whl.metadata (9.0 kB)\n",
            "Collecting parameterized<0.10.0,>=0.9.0 (from cohere)\n",
            "  Downloading parameterized-0.9.0-py2.py3-none-any.whl.metadata (18 kB)\n",
            "Requirement already satisfied: pydantic>=1.9.2 in /usr/local/lib/python3.10/dist-packages (from cohere) (2.8.2)\n",
            "Requirement already satisfied: requests<3.0.0,>=2.0.0 in /usr/local/lib/python3.10/dist-packages (from cohere) (2.31.0)\n",
            "Requirement already satisfied: tokenizers<1,>=0.15 in /usr/local/lib/python3.10/dist-packages (from cohere) (0.19.1)\n",
            "Collecting types-requests<3.0.0,>=2.0.0 (from cohere)\n",
            "  Downloading types_requests-2.32.0.20240712-py3-none-any.whl.metadata (1.9 kB)\n",
            "Requirement already satisfied: typing_extensions>=4.0.0 in /usr/local/lib/python3.10/dist-packages (from cohere) (4.12.2)\n",
            "Collecting botocore<1.35.0,>=1.34.149 (from boto3<2.0.0,>=1.34.0->cohere)\n",
            "  Downloading botocore-1.34.149-py3-none-any.whl.metadata (5.7 kB)\n",
            "Collecting jmespath<2.0.0,>=0.7.1 (from boto3<2.0.0,>=1.34.0->cohere)\n",
            "  Downloading jmespath-1.0.1-py3-none-any.whl.metadata (7.6 kB)\n",
            "Collecting s3transfer<0.11.0,>=0.10.0 (from boto3<2.0.0,>=1.34.0->cohere)\n",
            "  Downloading s3transfer-0.10.2-py3-none-any.whl.metadata (1.7 kB)\n",
            "Requirement already satisfied: anyio in /usr/local/lib/python3.10/dist-packages (from httpx>=0.21.2->cohere) (3.7.1)\n",
            "Requirement already satisfied: certifi in /usr/local/lib/python3.10/dist-packages (from httpx>=0.21.2->cohere) (2024.7.4)\n",
            "Collecting httpcore==1.* (from httpx>=0.21.2->cohere)\n",
            "  Downloading httpcore-1.0.5-py3-none-any.whl.metadata (20 kB)\n",
            "Requirement already satisfied: idna in /usr/local/lib/python3.10/dist-packages (from httpx>=0.21.2->cohere) (3.7)\n",
            "Requirement already satisfied: sniffio in /usr/local/lib/python3.10/dist-packages (from httpx>=0.21.2->cohere) (1.3.1)\n",
            "Collecting h11<0.15,>=0.13 (from httpcore==1.*->httpx>=0.21.2->cohere)\n",
            "  Downloading h11-0.14.0-py3-none-any.whl.metadata (8.2 kB)\n",
            "Requirement already satisfied: annotated-types>=0.4.0 in /usr/local/lib/python3.10/dist-packages (from pydantic>=1.9.2->cohere) (0.7.0)\n",
            "Requirement already satisfied: pydantic-core==2.20.1 in /usr/local/lib/python3.10/dist-packages (from pydantic>=1.9.2->cohere) (2.20.1)\n",
            "Requirement already satisfied: charset-normalizer<4,>=2 in /usr/local/lib/python3.10/dist-packages (from requests<3.0.0,>=2.0.0->cohere) (3.3.2)\n",
            "Requirement already satisfied: urllib3<3,>=1.21.1 in /usr/local/lib/python3.10/dist-packages (from requests<3.0.0,>=2.0.0->cohere) (2.0.7)\n",
            "Requirement already satisfied: huggingface-hub<1.0,>=0.16.4 in /usr/local/lib/python3.10/dist-packages (from tokenizers<1,>=0.15->cohere) (0.23.5)\n",
            "Requirement already satisfied: python-dateutil<3.0.0,>=2.1 in /usr/local/lib/python3.10/dist-packages (from botocore<1.35.0,>=1.34.149->boto3<2.0.0,>=1.34.0->cohere) (2.8.2)\n",
            "Requirement already satisfied: filelock in /usr/local/lib/python3.10/dist-packages (from huggingface-hub<1.0,>=0.16.4->tokenizers<1,>=0.15->cohere) (3.15.4)\n",
            "Requirement already satisfied: fsspec>=2023.5.0 in /usr/local/lib/python3.10/dist-packages (from huggingface-hub<1.0,>=0.16.4->tokenizers<1,>=0.15->cohere) (2024.6.1)\n",
            "Requirement already satisfied: packaging>=20.9 in /usr/local/lib/python3.10/dist-packages (from huggingface-hub<1.0,>=0.16.4->tokenizers<1,>=0.15->cohere) (24.1)\n",
            "Requirement already satisfied: pyyaml>=5.1 in /usr/local/lib/python3.10/dist-packages (from huggingface-hub<1.0,>=0.16.4->tokenizers<1,>=0.15->cohere) (6.0.1)\n",
            "Requirement already satisfied: tqdm>=4.42.1 in /usr/local/lib/python3.10/dist-packages (from huggingface-hub<1.0,>=0.16.4->tokenizers<1,>=0.15->cohere) (4.66.4)\n",
            "Requirement already satisfied: exceptiongroup in /usr/local/lib/python3.10/dist-packages (from anyio->httpx>=0.21.2->cohere) (1.2.2)\n",
            "Requirement already satisfied: six>=1.5 in /usr/local/lib/python3.10/dist-packages (from python-dateutil<3.0.0,>=2.1->botocore<1.35.0,>=1.34.149->boto3<2.0.0,>=1.34.0->cohere) (1.16.0)\n",
            "Downloading cohere-5.6.2-py3-none-any.whl (177 kB)\n",
            "\u001b[2K   \u001b[90m━━━━━━━━━━━━━━━━━━━━━━━━━━━━━━━━━━━━━━━━\u001b[0m \u001b[32m177.4/177.4 kB\u001b[0m \u001b[31m1.9 MB/s\u001b[0m eta \u001b[36m0:00:00\u001b[0m\n",
            "\u001b[?25hDownloading boto3-1.34.149-py3-none-any.whl (139 kB)\n",
            "\u001b[2K   \u001b[90m━━━━━━━━━━━━━━━━━━━━━━━━━━━━━━━━━━━━━━━━\u001b[0m \u001b[32m139.2/139.2 kB\u001b[0m \u001b[31m8.2 MB/s\u001b[0m eta \u001b[36m0:00:00\u001b[0m\n",
            "\u001b[?25hDownloading fastavro-1.9.5-cp310-cp310-manylinux_2_17_x86_64.manylinux2014_x86_64.whl (3.1 MB)\n",
            "\u001b[2K   \u001b[90m━━━━━━━━━━━━━━━━━━━━━━━━━━━━━━━━━━━━━━━━\u001b[0m \u001b[32m3.1/3.1 MB\u001b[0m \u001b[31m21.9 MB/s\u001b[0m eta \u001b[36m0:00:00\u001b[0m\n",
            "\u001b[?25hDownloading httpx-0.27.0-py3-none-any.whl (75 kB)\n",
            "\u001b[2K   \u001b[90m━━━━━━━━━━━━━━━━━━━━━━━━━━━━━━━━━━━━━━━━\u001b[0m \u001b[32m75.6/75.6 kB\u001b[0m \u001b[31m4.5 MB/s\u001b[0m eta \u001b[36m0:00:00\u001b[0m\n",
            "\u001b[?25hDownloading httpcore-1.0.5-py3-none-any.whl (77 kB)\n",
            "\u001b[2K   \u001b[90m━━━━━━━━━━━━━━━━━━━━━━━━━━━━━━━━━━━━━━━━\u001b[0m \u001b[32m77.9/77.9 kB\u001b[0m \u001b[31m5.1 MB/s\u001b[0m eta \u001b[36m0:00:00\u001b[0m\n",
            "\u001b[?25hDownloading httpx_sse-0.4.0-py3-none-any.whl (7.8 kB)\n",
            "Downloading parameterized-0.9.0-py2.py3-none-any.whl (20 kB)\n",
            "Downloading types_requests-2.32.0.20240712-py3-none-any.whl (15 kB)\n",
            "Downloading botocore-1.34.149-py3-none-any.whl (12.4 MB)\n",
            "\u001b[2K   \u001b[90m━━━━━━━━━━━━━━━━━━━━━━━━━━━━━━━━━━━━━━━━\u001b[0m \u001b[32m12.4/12.4 MB\u001b[0m \u001b[31m48.7 MB/s\u001b[0m eta \u001b[36m0:00:00\u001b[0m\n",
            "\u001b[?25hDownloading jmespath-1.0.1-py3-none-any.whl (20 kB)\n",
            "Downloading s3transfer-0.10.2-py3-none-any.whl (82 kB)\n",
            "\u001b[2K   \u001b[90m━━━━━━━━━━━━━━━━━━━━━━━━━━━━━━━━━━━━━━━━\u001b[0m \u001b[32m82.7/82.7 kB\u001b[0m \u001b[31m4.3 MB/s\u001b[0m eta \u001b[36m0:00:00\u001b[0m\n",
            "\u001b[?25hDownloading h11-0.14.0-py3-none-any.whl (58 kB)\n",
            "\u001b[2K   \u001b[90m━━━━━━━━━━━━━━━━━━━━━━━━━━━━━━━━━━━━━━━━\u001b[0m \u001b[32m58.3/58.3 kB\u001b[0m \u001b[31m3.2 MB/s\u001b[0m eta \u001b[36m0:00:00\u001b[0m\n",
            "\u001b[?25hInstalling collected packages: types-requests, parameterized, jmespath, httpx-sse, h11, fastavro, httpcore, botocore, s3transfer, httpx, boto3, cohere\n",
            "Successfully installed boto3-1.34.149 botocore-1.34.149 cohere-5.6.2 fastavro-1.9.5 h11-0.14.0 httpcore-1.0.5 httpx-0.27.0 httpx-sse-0.4.0 jmespath-1.0.1 parameterized-0.9.0 s3transfer-0.10.2 types-requests-2.32.0.20240712\n"
          ]
        }
      ]
    },
    {
      "cell_type": "code",
      "source": [
        "import cohere\n",
        "\n",
        "# Initialize the Cohere client\n",
        "api_key = 'HZWihnmN9k5JbRsSbEYFhVMUkGF4lhgm1J0FKjWu'\n",
        "co = cohere.Client(api_key)\n",
        "\n",
        "# Example prompt for generating a story about a 4-year-old boy\n",
        "prompt = \"write a story of 5 year old young boy Arjun who is verry brave\"\n",
        "\n",
        "# Generate a story based on the prompt\n",
        "response = co.generate(\n",
        "    model='command-xlarge-nightly',\n",
        "    prompt=prompt,\n",
        "    max_tokens=300,  # Increased max_tokens to allow a longer story\n",
        "    temperature=0.7,\n",
        "    k=0,\n",
        "    p=0.75,\n",
        "    frequency_penalty=0,\n",
        "    presence_penalty=0,\n",
        "    stop_sequences=[\"The end.\"],  # Set a clear stop sequence\n",
        "    return_likelihoods='NONE'\n",
        ")\n",
        "\n",
        "# Print the generated story\n",
        "print(response.generations[0].text)\n"
      ],
      "metadata": {
        "colab": {
          "base_uri": "https://localhost:8080/"
        },
        "id": "XAqg9C1uePJ9",
        "outputId": "a81ffc42-fc9e-49af-fa77-41a57e4e3ae5"
      },
      "execution_count": 5,
      "outputs": [
        {
          "output_type": "stream",
          "name": "stdout",
          "text": [
            "Arjun was a 5-year-old boy who lived with his parents in a small village. He was always curious and adventurous, and loved to explore the world around him. One day, while playing in the woods near his house, Arjun stumbled upon a small cave. He peered inside and saw that it was dark and mysterious. Arjun was intrigued and decided to venture into the cave.\n",
            "\n",
            "As he walked further into the cave, Arjun noticed that the air was cold and damp. He could hear the echo of his footsteps and the dripping of water from the stalactites above. Suddenly, he heard a loud growl and saw a pair of glowing eyes in the darkness. Arjun froze in fear, realizing that he had stumbled upon a bear's den.\n",
            "\n",
            "Most children his age would have turned and run, but Arjun was brave. He stood his ground and slowly backed away, making sure to make as little noise as possible. The bear emerged from the shadows, its massive form filling the cave entrance. Arjun knew that he had to act quickly.\n",
            "\n",
            "With a loud shout, Arjun ran towards the bear, waving his arms and shouting as loudly as he could. The bear was startled by Arjun's bravery and turned to run back into the cave. Arjun chased after it, continuing to shout and wave his arms. The bear ran deeper into the cave, and Arjun followed, determined to drive it out.\n",
            "\n",
            "Finally, the bear reached a dead end and turned\n"
          ]
        }
      ]
    },
    {
      "cell_type": "code",
      "source": [],
      "metadata": {
        "id": "q0mzKnOZ_KTH"
      },
      "execution_count": null,
      "outputs": []
    },
    {
      "cell_type": "code",
      "source": [
        "import cohere\n",
        "\n",
        "# Initialize the Cohere client\n",
        "api_key = 'HZWihnmN9k5JbRsSbEYFhVMUkGF4lhgm1J0FKjWu'\n",
        "co = cohere.Client(api_key)\n",
        "\n",
        "# Example prompt for generating a story about a 4-year-old boy\n",
        "prompt = \"Once upon a time, there was a 4-year-old boy named Arjun who loved adventures. One sunny morning,\"\n",
        "\n",
        "# Generate a story based on the prompt\n",
        "response = co.generate(\n",
        "    model='command-xlarge-nightly',\n",
        "    prompt=prompt,\n",
        "    max_tokens=500,  # Increased max_tokens to allow a longer story\n",
        "    temperature=0.7,\n",
        "    k=0,\n",
        "    p=0.75,\n",
        "    frequency_penalty=0,\n",
        "    presence_penalty=0,\n",
        "    stop_sequences=[\"The end.\"],  # Set a clear stop sequence\n",
        "    return_likelihoods='NONE'\n",
        ")\n",
        "\n",
        "# Print the generated story\n",
        "print(response.generations[0].text)\n"
      ],
      "metadata": {
        "colab": {
          "base_uri": "https://localhost:8080/"
        },
        "outputId": "beae09c5-d771-4a76-8448-8fc74f9b6c93",
        "id": "DINOg3D8Av2W"
      },
      "execution_count": 6,
      "outputs": [
        {
          "output_type": "stream",
          "name": "stdout",
          "text": [
            "Arjun decided to embark on a thrilling journey to discover the secrets of his backyard. Armed with a magnifying glass and a sense of curiosity, he set out to explore the wonders that lay beyond his house.\n",
            "\n",
            "As he stepped into the lush green grass, Arjun noticed a trail of tiny ants marching along a fallen tree branch. He knelt down, observing their busy movements with fascination. With his magnifying glass, he examined the intricate patterns on their bodies, marveling at the strength and determination of these tiny creatures.\n",
            "\n",
            "Moving further, Arjun stumbled upon a mysterious hole beneath a bush. Peering inside, he saw it was inhabited by a family of fluffy bunnies. Their twitching noses and long ears captivated him, and he spent a few moments watching their playful antics, wondering about the secret lives of these gentle creatures.\n",
            "\n",
            "Arjun's adventurous spirit led him to a small stream that meandered through his backyard. He skipped along the bank, splashing his feet in the cool water. Peering into the stream, he spotted a school of colorful fish darting among the rocks. He imagined himself as a fearless explorer, navigating uncharted waters in search of hidden treasures.\n",
            "\n",
            "Under the shade of a large oak tree, Arjun discovered a hidden fort built from branches and leaves. He climbed inside, feeling like a brave warrior in his secret hideout. From his fort, he gazed up at the sky, watching the clouds drift by, letting his imagination run wild as he created stories about magical lands and faraway kingdoms.\n",
            "\n",
            "As the sun began to set, Arjun's tummy rumbled, signaling the end of his adventure. He had explored, discovered, and imagined a world full of wonders in his very own backyard. With a heart full of joy and a mind brimming with stories to share, Arjun returned to the warmth of his home, ready to embark on new adventures tomorrow.\n",
            "\n",
            "And so, Arjun's backyard adventure came to a close, but his curiosity and love for exploration remained, paving the way for countless more thrilling journeys to come.\n"
          ]
        }
      ]
    },
    {
      "cell_type": "code",
      "source": [],
      "metadata": {
        "id": "mkuDgo2bAxTn"
      },
      "execution_count": null,
      "outputs": []
    },
    {
      "cell_type": "code",
      "source": [
        "import cohere\n",
        "\n",
        "# Initialize the Cohere client\n",
        "api_key = 'HZWihnmN9k5JbRsSbEYFhVMUkGF4lhgm1J0FKjWu'\n",
        "co = cohere.Client(api_key)\n",
        "\n",
        "# Example prompt for generating a story about a 4-year-old boy\n",
        "prompt = \"Once upon a time, there was a 4-year-old boy named Arjun who loved adventures. One sunny morning,\"\n",
        "\n",
        "# Generate a story based on the prompt\n",
        "response = co.generate(\n",
        "    model='command-xlarge-nightly',\n",
        "    prompt=prompt,\n",
        "    max_tokens=1000,  # Increased max_tokens to allow a longer story\n",
        "    temperature=0.7,\n",
        "    k=0,\n",
        "    p=0.75,\n",
        "    frequency_penalty=0,\n",
        "    presence_penalty=0,\n",
        "    stop_sequences=[\"The end.\"],  # Set a clear stop sequence\n",
        "    return_likelihoods='NONE'\n",
        ")\n",
        "\n",
        "# Print the generated story\n",
        "print(response.generations[0].text)\n"
      ],
      "metadata": {
        "colab": {
          "base_uri": "https://localhost:8080/"
        },
        "outputId": "1136b8f6-cb17-40b4-edce-bf1b8b9f2c1f",
        "id": "p2DPbJjyAx7h"
      },
      "execution_count": 7,
      "outputs": [
        {
          "output_type": "stream",
          "name": "stdout",
          "text": [
            "Arjun woke up feeling excited and ready for a new adventure. He put on his favorite explorer hat and grabbed his trusty magnifying glass. With a backpack full of snacks and a canteen of water, he set off into the great outdoors, eager to discover new things and solve mysteries.\n",
            "\n",
            "As he wandered through the woods near his house, Arjun's curious eyes noticed all sorts of fascinating creatures and plants. He stopped to examine a beautiful butterfly with his magnifying glass, marveling at the intricate patterns on its wings. He listened to the birds singing in the trees and tried to identify their different calls.\n",
            "\n",
            "Soon, Arjun stumbled upon a small stream glittering in the sunlight. He knelt down by the water's edge and watched tiny fish darting back and forth. Using his explorer skills, he carefully scooped up some water in his hands and examined the tiny creatures swimming around under his magnifying glass.\n",
            "\n",
            "\"Wow, there's so much to discover in nature!\" thought Arjun.\n",
            "\n",
            "As he continued his adventure, Arjun imagined himself as a brave explorer on a mission to uncover hidden treasures and solve nature's puzzles. He climbed over rocks, crawled through bushes, and bravely faced the challenges that came his way.\n",
            "\n",
            "At one point, Arjun found a mysterious hole in the ground. Intrigued, he peered inside and spotted something shiny. Carefully, he dug around the hole and uncovered a small treasure chest. With a sense of triumph, he opened the chest and found a beautiful stone with a rainbow of colors sparkling in the light.\n",
            "\n",
            "\"I've discovered a magical gem!\" exclaimed Arjun. \"I bet this stone has special powers.\"\n",
            "\n",
            "Arjun carefully placed the gem in his backpack and continued his exploration. He met friendly insects, watched squirrels chasing each other up trees, and even spotted a deer and her fawn quietly drinking from a pond.\n",
            "\n",
            "As the sun began to set, Arjun realized it was time to head home. He felt proud of all the discoveries he had made that day. With his backpack full of treasures and his mind full of wonderful memories, he waved goodbye to the woods and promised to return for more adventures soon.\n",
            "\n",
            "From that day on, Arjun knew that the world was full of wonders waiting to be explored, and he couldn't wait to embark on his next exciting journey.\n"
          ]
        }
      ]
    },
    {
      "cell_type": "code",
      "source": [
        "import cohere\n",
        "\n",
        "# Initialize the Cohere client\n",
        "api_key = \"HZWihnmN9k5JbRsSbEYFhVMUkGF4lhgm1J0FKjWu\"  # Replace with your actual API key\n",
        "co = cohere.Client(api_key)\n",
        "\n",
        "# Example prompt for generating a story about a 4-year-old boy in Hindi\n",
        "prompt = \"एक बार की बात है, एक 4 साल का लड़का था जिसका नाम अर्जुन था। उसे रोमांच पसंद था। एक धूप भरी सुबह,\"\n",
        "\n",
        "# Generate a story based on the prompt\n",
        "response = co.generate(\n",
        "    model='command-xlarge-nightly',\n",
        "    prompt=prompt,\n",
        "    max_tokens=1000,  # Increased max_tokens to allow a longer story\n",
        "    temperature=0.7,\n",
        "    k=0,\n",
        "    p=0.75,\n",
        "    frequency_penalty=0,\n",
        "    presence_penalty=0,\n",
        "    stop_sequences=[\"समाप्त।\"],  # Set a clear stop sequence in Hindi\n",
        "    return_likelihoods='NONE'\n",
        ")\n",
        "\n",
        "# Print the generated story\n",
        "print(response.generations[0].text)\n"
      ],
      "metadata": {
        "colab": {
          "base_uri": "https://localhost:8080/"
        },
        "id": "O8_gF31uA1e5",
        "outputId": "947c284e-e3d2-4b73-d3bb-693f4a99bca9"
      },
      "execution_count": 9,
      "outputs": [
        {
          "output_type": "stream",
          "name": "stdout",
          "text": [
            "अर्जुन ने अपनी माँ से पूछा, \"माँ, आज हम कहाँ जा रहे हैं?\"\n",
            "\n",
            "उसकी माँ मुस्कुराई और जवाब दिया, \"हम एक रोमांचक स्थान पर जा रहे हैं जहाँ तुम्हें बहुत मज़ा आएगा!\"\n",
            "\n",
            "अर्जुन उत्साहित हो गया और पूछा, \"क्या हम जंगल में एक रोमांचक सफारी पर जा रहे हैं?\"\n",
            "\n",
            "उसकी माँ ने रहस्यमयी ढंग से जवाब दिया, \"नहीं, यहाँ तक कि और भी मजेदार है!\"\n",
            "\n",
            "जब वे अपनी गाड़ी में सवार हुए, तो अर्जुन ने खिड़की से बाहर देखा और देखा कि वे एक विशाल मनोरंजन पार्क की ओर बढ़ रहे थे। उसकी आँखें चमक उठीं और वह चिल्लाया, \"क्या हम एक मनोरंजन पार्क में जा रहे हैं? यह तो बहुत मज़ेदार होगा!\"\n",
            "\n",
            "उसकी माँ ने हँसते हुए कहा, \"हाँ, अर्जुन! आज हम पूरा दिन यहाँ बिताएँगे और सभी रोमांचक राइड्स और आकर्षणों का आनंद लेंगे।\"\n",
            "\n",
            "अर्जुन ने उत्साह से अपने हाथों को मिलाया और चिल्लाया, \"वाह! मैंने हमेशा से एक मनोरंजन पार्क में जाने की कल्पना की थी! आइए जल्दी से जाएँ!\"\n",
            "\n",
            "जैसे ही वे मनोरंजन पार्क में पहुँचे, अर्जुन की आँखें चमक उठीं। वह एक रोलर कोस्टर से दूसरे में भागता दिखाई दिया, झूलों पर झूलता और अपनी माँ के साथ मज़ेदार खेलों में हिस्सा लेता था। वहाँ तक कि उसने एक पानी की सवारी की, जहाँ वह पूरी तरह से भीग गया और हँसते हुए चिल्लाया।\n",
            "\n",
            "अर्जुन ने कहा, \"यह मेरे जीवन का सबसे शानदार दिन है!\"\n",
            "\n",
            "रात होने तक, अर्जुन थका हुआ और खुश था। उसने अपनी माँ को गले से लगाया और कहा, \"धन्यवाद, माँ, यह वास्तव में एक रोमांचक दिन था। मैं हमेशा इसे याद रखूँगा!\"\n",
            "\n",
            "उसकी माँ ने प्यार से उसके सिर पर हाथ फेरा और कहा, \"मुझे खुशी है कि तुम्हें मज़ा आया। यह हमारी साथ में बिताई गई यादगार यात्रा है।\"\n",
            "\n",
            "उन्होंने मनोरंजन पार्क से विदाई ली और अपने घर की ओर रुख किया, अर्जुन के चेहरे पर अभी भी एक चमक थी और उसके दिल में रोमांच से भरा था।\n",
            "\n",
            "अर्जुन की यात्रा हमें यह याद दिलाती है कि जीवन में रो\n"
          ]
        }
      ]
    },
    {
      "cell_type": "code",
      "source": [],
      "metadata": {
        "id": "xcPFjV5MBdC_"
      },
      "execution_count": null,
      "outputs": []
    }
  ]
}