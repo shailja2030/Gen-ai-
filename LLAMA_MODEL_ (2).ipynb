{
  "nbformat": 4,
  "nbformat_minor": 0,
  "metadata": {
    "colab": {
      "provenance": []
    },
    "kernelspec": {
      "name": "python3",
      "display_name": "Python 3"
    },
    "language_info": {
      "name": "python"
    }
  },
  "cells": [
    {
      "cell_type": "markdown",
      "metadata": {
        "id": "view-in-github"
      },
      "source": [
        "<a href=\"https://colab.research.google.com/github/rabbitmetrics/personalize-LLMs/blob/main/notebooks/personalization.ipynb\" target=\"_parent\"><img src=\"https://colab.research.google.com/assets/colab-badge.svg\" alt=\"Open In Colab\"/></a>"
      ]
    },
    {
      "cell_type": "code",
      "source": [
        "print(\"perfect\")\n",
        "\n",
        "!pip install huggingface_hub\n",
        "!pip install llama-cpp-python==0.1.78\n",
        "!pip install numpy==1.23.4\n",
        "\n",
        "model_name_or_path = \"TheBloke/Llama-2-13B-chat-GGML\"\n",
        "model_basename = \"llama-2-13b-chat.ggmlv3.q5_1.bin\"  # the model is in bin format\n",
        "\n",
        "from huggingface_hub import hf_hub_download\n",
        "from llama_cpp import Llama\n",
        "\n",
        "model_path = hf_hub_download(repo_id=model_name_or_path, filename=model_basename)\n",
        "\n",
        "lcpp_llm = Llama(\n",
        "    model_path=model_path,\n",
        "    n_threads=2,  # CPU cores\n",
        "    n_batch=512,  # Should be between 1 and n_ctx, consider the amount of VRAM in your GPU.\n",
        ")\n",
        "\n",
        "# Change the prompt to another code-related request\n",
        "prompt = \"Implement a function to calculate the factorial of a number in Python\"\n",
        "\n",
        "prompt_template = f'''SYSTEM: You are a helpful, respectful and honest assistant. Always answer as helpfully.\n",
        "\n",
        "USER: {prompt}\n",
        "\n",
        "ASSISTANT:\n",
        "\n",
        "'''\n",
        "response = lcpp_llm(prompt=prompt_template, max_tokens=256, temperature=0.5, top_p=0.95, repeat_penalty=1.2, top_k=150, echo=True)\n",
        "\n",
        "print(response)\n"
      ],
      "metadata": {
        "colab": {
          "base_uri": "https://localhost:8080/"
        },
        "id": "jR4jEuGnd5nq",
        "outputId": "b7599003-e34d-4046-beee-f4147dbdac97"
      },
      "execution_count": 8,
      "outputs": [
        {
          "output_type": "stream",
          "name": "stdout",
          "text": [
            "perfect\n",
            "Requirement already satisfied: huggingface_hub in /usr/local/lib/python3.10/dist-packages (0.19.4)\n",
            "Requirement already satisfied: filelock in /usr/local/lib/python3.10/dist-packages (from huggingface_hub) (3.13.1)\n",
            "Requirement already satisfied: fsspec>=2023.5.0 in /usr/local/lib/python3.10/dist-packages (from huggingface_hub) (2023.6.0)\n",
            "Requirement already satisfied: requests in /usr/local/lib/python3.10/dist-packages (from huggingface_hub) (2.31.0)\n",
            "Requirement already satisfied: tqdm>=4.42.1 in /usr/local/lib/python3.10/dist-packages (from huggingface_hub) (4.66.1)\n",
            "Requirement already satisfied: pyyaml>=5.1 in /usr/local/lib/python3.10/dist-packages (from huggingface_hub) (6.0.1)\n",
            "Requirement already satisfied: typing-extensions>=3.7.4.3 in /usr/local/lib/python3.10/dist-packages (from huggingface_hub) (4.5.0)\n",
            "Requirement already satisfied: packaging>=20.9 in /usr/local/lib/python3.10/dist-packages (from huggingface_hub) (23.2)\n",
            "Requirement already satisfied: charset-normalizer<4,>=2 in /usr/local/lib/python3.10/dist-packages (from requests->huggingface_hub) (3.3.2)\n",
            "Requirement already satisfied: idna<4,>=2.5 in /usr/local/lib/python3.10/dist-packages (from requests->huggingface_hub) (3.6)\n",
            "Requirement already satisfied: urllib3<3,>=1.21.1 in /usr/local/lib/python3.10/dist-packages (from requests->huggingface_hub) (2.0.7)\n",
            "Requirement already satisfied: certifi>=2017.4.17 in /usr/local/lib/python3.10/dist-packages (from requests->huggingface_hub) (2023.11.17)\n",
            "Requirement already satisfied: llama-cpp-python==0.1.78 in /usr/local/lib/python3.10/dist-packages (0.1.78)\n",
            "Requirement already satisfied: typing-extensions>=4.5.0 in /usr/local/lib/python3.10/dist-packages (from llama-cpp-python==0.1.78) (4.5.0)\n",
            "Requirement already satisfied: numpy>=1.20.0 in /usr/local/lib/python3.10/dist-packages (from llama-cpp-python==0.1.78) (1.23.4)\n",
            "Requirement already satisfied: diskcache>=5.6.1 in /usr/local/lib/python3.10/dist-packages (from llama-cpp-python==0.1.78) (5.6.3)\n",
            "Requirement already satisfied: numpy==1.23.4 in /usr/local/lib/python3.10/dist-packages (1.23.4)\n"
          ]
        },
        {
          "output_type": "stream",
          "name": "stderr",
          "text": [
            "AVX = 1 | AVX2 = 1 | AVX512 = 0 | AVX512_VBMI = 0 | AVX512_VNNI = 0 | FMA = 1 | NEON = 0 | ARM_FMA = 0 | F16C = 1 | FP16_VA = 0 | WASM_SIMD = 0 | BLAS = 0 | SSE3 = 1 | VSX = 0 | \n"
          ]
        },
        {
          "output_type": "stream",
          "name": "stdout",
          "text": [
            "{'id': 'cmpl-c35477e1-dd4c-43fd-a675-d3d78b95765c', 'object': 'text_completion', 'created': 1704187363, 'model': '/root/.cache/huggingface/hub/models--TheBloke--Llama-2-13B-chat-GGML/snapshots/3140827b4dfcb6b562cd87ee3d7f07109b014dd0/llama-2-13b-chat.ggmlv3.q5_1.bin', 'choices': [{'text': \"SYSTEM: You are a helpful, respectful and honest assistant. Always answer as helpfully.\\n\\nUSER: Implement a function to calculate the factorial of a number in Python\\n\\nASSISTANT:\\n\\nTo calculate the factorial of a number in Python, you can use the built-in `math.factorial()` function. Here's an example of how to use it:\\n```\\nfrom math import factorial\\n\\n# Calculate the factorial of 5\\nresult = factorial(5)\\nprint(result) # Output: 120\\n```\\nAlternatively, you can write your own implementation of the factorial function using a recursive approach or an iterative approach. Here's an example of how to implement it recursively:\\n```\\ndef factorial(n):\\n    if n == 0:\\n        return 1\\n    else:\\n        return n * factorial(n-1)\\n\\n# Calculate the factorial of 5\\nresult = factorial(5)\\nprint(result) # Output: 120\\n```\\nAnd here's an example of how to implement it iteratively:\\n```\\ndef factorial(n):\\n    result = 1\\n    for i in range(1, n+1):\\n        result *= i\\n    return result\\n\\n# Calculate the factorial of 5\\nresult = factor\", 'index': 0, 'logprobs': None, 'finish_reason': 'length'}], 'usage': {'prompt_tokens': 48, 'completion_tokens': 256, 'total_tokens': 304}}\n"
          ]
        }
      ]
    },
    {
      "cell_type": "code",
      "source": [
        "print(response)"
      ],
      "metadata": {
        "colab": {
          "base_uri": "https://localhost:8080/"
        },
        "id": "iFK6HxfkeQsZ",
        "outputId": "e8565974-eecb-434a-9631-540ed92f5eba"
      },
      "execution_count": 10,
      "outputs": [
        {
          "output_type": "stream",
          "name": "stdout",
          "text": [
            "{'id': 'cmpl-c35477e1-dd4c-43fd-a675-d3d78b95765c', 'object': 'text_completion', 'created': 1704187363, 'model': '/root/.cache/huggingface/hub/models--TheBloke--Llama-2-13B-chat-GGML/snapshots/3140827b4dfcb6b562cd87ee3d7f07109b014dd0/llama-2-13b-chat.ggmlv3.q5_1.bin', 'choices': [{'text': \"SYSTEM: You are a helpful, respectful and honest assistant. Always answer as helpfully.\\n\\nUSER: Implement a function to calculate the factorial of a number in Python\\n\\nASSISTANT:\\n\\nTo calculate the factorial of a number in Python, you can use the built-in `math.factorial()` function. Here's an example of how to use it:\\n```\\nfrom math import factorial\\n\\n# Calculate the factorial of 5\\nresult = factorial(5)\\nprint(result) # Output: 120\\n```\\nAlternatively, you can write your own implementation of the factorial function using a recursive approach or an iterative approach. Here's an example of how to implement it recursively:\\n```\\ndef factorial(n):\\n    if n == 0:\\n        return 1\\n    else:\\n        return n * factorial(n-1)\\n\\n# Calculate the factorial of 5\\nresult = factorial(5)\\nprint(result) # Output: 120\\n```\\nAnd here's an example of how to implement it iteratively:\\n```\\ndef factorial(n):\\n    result = 1\\n    for i in range(1, n+1):\\n        result *= i\\n    return result\\n\\n# Calculate the factorial of 5\\nresult = factor\", 'index': 0, 'logprobs': None, 'finish_reason': 'length'}], 'usage': {'prompt_tokens': 48, 'completion_tokens': 256, 'total_tokens': 304}}\n"
          ]
        }
      ]
    },
    {
      "cell_type": "code",
      "source": [
        "# to get the responce line by line"
      ],
      "metadata": {
        "id": "Myj85Cxiip3F"
      },
      "execution_count": null,
      "outputs": []
    },
    {
      "cell_type": "code",
      "source": [
        "response_data = {\n",
        "    'id': 'cmpl-c35477e1-dd4c-43fd-a675-d3d78b95765c',\n",
        "    'object': 'text_completion',\n",
        "    'created': 1704187363,\n",
        "    'model': '/root/.cache/huggingface/hub/models--TheBloke--Llama-2-13B-chat-GGML/snapshots/3140827b4dfcb6b562cd87ee3d7f07109b014dd0/llama-2-13b-chat.ggmlv3.q5_1.bin',\n",
        "    'choices': [\n",
        "        {\n",
        "            'text': \"SYSTEM: You are a helpful, respectful and honest assistant. Always answer as helpfully.\\n\\nUSER: Implement a function to calculate the factorial of a number in Python\\n\\nASSISTANT:\\n\\nTo calculate the factorial of a number in Python, you can use the built-in `math.factorial()` function. Here's an example of how to use it:\\n```\\nfrom math import factorial\\n\\n# Calculate the factorial of 5\\nresult = factorial(5)\\nprint(result) # Output: 120\\n```\\nAlternatively, you can write your own implementation of the factorial function using a recursive approach or an iterative approach. Here's an example of how to implement it recursively:\\n```\\ndef factorial(n):\\n    if n == 0:\\n        return 1\\n    else:\\n        return n * factorial(n-1)\\n\\n# Calculate the factorial of 5\\nresult = factorial(5)\\nprint(result) # Output: 120\\n```\\nAnd here's an example of how to implement it iteratively:\\n```\\ndef factorial(n):\\n    result = 1\\n    for i in range(1, n+1):\\n        result *= i\\n    return result\\n\\n# Calculate the factorial of 5\\nresult = factor\",\n",
        "            'index': 0,\n",
        "            'logprobs': None,\n",
        "            'finish_reason': 'length'\n",
        "        }\n",
        "    ],\n",
        "    'usage': {'prompt_tokens': 48, 'completion_tokens': 256, 'total_tokens': 304}\n",
        "}\n",
        "\n",
        "# Extract and print each line separately\n",
        "for line in response_data['choices'][0]['text'].split('\\n'):\n",
        "    print(line)\n"
      ],
      "metadata": {
        "colab": {
          "base_uri": "https://localhost:8080/"
        },
        "id": "rdPsfCgqhlAd",
        "outputId": "b624cd3d-597e-4c95-f014-03e31f0bf544"
      },
      "execution_count": 11,
      "outputs": [
        {
          "output_type": "stream",
          "name": "stdout",
          "text": [
            "SYSTEM: You are a helpful, respectful and honest assistant. Always answer as helpfully.\n",
            "\n",
            "USER: Implement a function to calculate the factorial of a number in Python\n",
            "\n",
            "ASSISTANT:\n",
            "\n",
            "To calculate the factorial of a number in Python, you can use the built-in `math.factorial()` function. Here's an example of how to use it:\n",
            "```\n",
            "from math import factorial\n",
            "\n",
            "# Calculate the factorial of 5\n",
            "result = factorial(5)\n",
            "print(result) # Output: 120\n",
            "```\n",
            "Alternatively, you can write your own implementation of the factorial function using a recursive approach or an iterative approach. Here's an example of how to implement it recursively:\n",
            "```\n",
            "def factorial(n):\n",
            "    if n == 0:\n",
            "        return 1\n",
            "    else:\n",
            "        return n * factorial(n-1)\n",
            "\n",
            "# Calculate the factorial of 5\n",
            "result = factorial(5)\n",
            "print(result) # Output: 120\n",
            "```\n",
            "And here's an example of how to implement it iteratively:\n",
            "```\n",
            "def factorial(n):\n",
            "    result = 1\n",
            "    for i in range(1, n+1):\n",
            "        result *= i\n",
            "    return result\n",
            "\n",
            "# Calculate the factorial of 5\n",
            "result = factor\n"
          ]
        }
      ]
    },
    {
      "cell_type": "code",
      "source": [
        "prompt = \"Provide Python code for a simple linear regression model using scikit-learn.\"\n",
        "\n",
        "prompt_template = f'''SYSTEM: You are a helpful, respectful and honest assistant. Always answer as helpfully.\n",
        "\n",
        "USER: {prompt}\n",
        "\n",
        "ASSISTANT:\n",
        "\n",
        "'''\n",
        "\n",
        "response = lcpp_llm(prompt=prompt_template, max_tokens=256, temperature=0.5, top_p=0.95, repeat_penalty=1.2, top_k=150, echo=True)\n",
        "\n",
        "print(response)"
      ],
      "metadata": {
        "colab": {
          "base_uri": "https://localhost:8080/"
        },
        "id": "FepWrthIit19",
        "outputId": "76582f30-0e7a-42b7-a7cc-7a35bb717772"
      },
      "execution_count": 12,
      "outputs": [
        {
          "output_type": "stream",
          "name": "stderr",
          "text": [
            "Llama.generate: prefix-match hit\n"
          ]
        },
        {
          "output_type": "stream",
          "name": "stdout",
          "text": [
            "{'id': 'cmpl-3009df98-6399-4308-8c1d-fe1e8f2ee19d', 'object': 'text_completion', 'created': 1704188447, 'model': '/root/.cache/huggingface/hub/models--TheBloke--Llama-2-13B-chat-GGML/snapshots/3140827b4dfcb6b562cd87ee3d7f07109b014dd0/llama-2-13b-chat.ggmlv3.q5_1.bin', 'choices': [{'text': 'SYSTEM: You are a helpful, respectful and honest assistant. Always answer as helpfully.\\n\\nUSER: Provide Python code for a simple linear regression model using scikit-learn.\\n\\nASSISTANT:\\n\\nTo create a simple linear regression model in Python using scikit-learn, you can use the `LinearRegression` class from the library\\'s `linear_model` module. Here is an example of how to do this:\\n```\\nfrom sklearn.linear_model import LinearRegression\\nimport pandas as pd\\n\\n# Load your dataset into a Pandas DataFrame\\ndf = pd.read_csv(\\'your_data.csv\\')\\n\\n# Create and train the linear regression model\\nreg = LinearRegression().fit(df[[\\'x1\\', \\'x2\\']], df[\\'y\\'])\\n\\n# Print the coefficients of the model\\nprint(\"Coefficients:\", reg.coef_)\\n```\\nThis code assumes that your dataset is stored in a file called `your_data.csv` and that you want to use the first two features (in this case, `x1` and `x2`) as predictors and the third feature (`y`) as the target variable. The `LinearRegression` class will fit the model to the data using the default method, which is ordinary least squares (OLS).\\n\\nYou can also specify additional parameters when creating the model, such as regularization', 'index': 0, 'logprobs': None, 'finish_reason': 'length'}], 'usage': {'prompt_tokens': 50, 'completion_tokens': 256, 'total_tokens': 306}}\n"
          ]
        }
      ]
    },
    {
      "cell_type": "code",
      "source": [
        "# to get the code in linke by line\n",
        "response_data = {\n",
        "    'id': 'cmpl-c35477e1-dd4c-43fd-a675-d3d78b95765c',\n",
        "    'object': 'text_completion',\n",
        "    'created': 1704187363,\n",
        "    'model': '/root/.cache/huggingface/hub/models--TheBloke--Llama-2-13B-chat-GGML/snapshots/3140827b4dfcb6b562cd87ee3d7f07109b014dd0/llama-2-13b-chat.ggmlv3.q5_1.bin',\n",
        "    'choices': [\n",
        "        {\n",
        "            'text': \"SYSTEM: You are a helpful, respectful and honest assistant. Always answer as helpfully.\\n\\nUSER: Provide Python code for a simple linear regression model using scikit-learn.\\n\\nASSISTANT:\\n\\nCertainly! Here's an example Python code for a simple linear regression model using scikit-learn:\\n```python\\n# Import necessary libraries\\nfrom sklearn.model_selection import train_test_split\\nfrom sklearn.linear_model import LinearRegression\\nfrom sklearn.metrics import mean_squared_error\\n\\n# Assuming you have a dataset with features X and target variable y\\n# Split the data into training and testing sets\\nX_train, X_test, y_train, y_test = train_test_split(X, y, test_size=0.2, random_state=42)\\n\\n# Create a linear regression model\\nmodel = LinearRegression()\\n\\n# Train the model\\nmodel.fit(X_train, y_train)\\n\\n# Make predictions on the test set\\ny_pred = model.predict(X_test)\\n\\n# Evaluate the model\\nmse = mean_squared_error(y_test, y_pred)\\nprint('Mean Squared Error:', mse)\\n```\\nFeel free to adapt this code to your specific dataset and requirements.\\n\",\n",
        "            'index': 0,\n",
        "            'logprobs': None,\n",
        "            'finish_reason': 'length'\n",
        "        }\n",
        "    ],\n",
        "    'usage': {'prompt_tokens': 48, 'completion_tokens': 256, 'total_tokens': 304}\n",
        "}\n",
        "\n",
        "# Extract and print each line separately\n",
        "for line in response_data['choices'][0]['text'].split('\\n'):\n",
        "    print(line)\n"
      ],
      "metadata": {
        "colab": {
          "base_uri": "https://localhost:8080/"
        },
        "id": "LmFMwrOnjA6F",
        "outputId": "08d2b5db-4a8f-4f3b-b0a2-868722f4d0df"
      },
      "execution_count": 13,
      "outputs": [
        {
          "output_type": "stream",
          "name": "stdout",
          "text": [
            "SYSTEM: You are a helpful, respectful and honest assistant. Always answer as helpfully.\n",
            "\n",
            "USER: Provide Python code for a simple linear regression model using scikit-learn.\n",
            "\n",
            "ASSISTANT:\n",
            "\n",
            "Certainly! Here's an example Python code for a simple linear regression model using scikit-learn:\n",
            "```python\n",
            "# Import necessary libraries\n",
            "from sklearn.model_selection import train_test_split\n",
            "from sklearn.linear_model import LinearRegression\n",
            "from sklearn.metrics import mean_squared_error\n",
            "\n",
            "# Assuming you have a dataset with features X and target variable y\n",
            "# Split the data into training and testing sets\n",
            "X_train, X_test, y_train, y_test = train_test_split(X, y, test_size=0.2, random_state=42)\n",
            "\n",
            "# Create a linear regression model\n",
            "model = LinearRegression()\n",
            "\n",
            "# Train the model\n",
            "model.fit(X_train, y_train)\n",
            "\n",
            "# Make predictions on the test set\n",
            "y_pred = model.predict(X_test)\n",
            "\n",
            "# Evaluate the model\n",
            "mse = mean_squared_error(y_test, y_pred)\n",
            "print('Mean Squared Error:', mse)\n",
            "```\n",
            "Feel free to adapt this code to your specific dataset and requirements.\n",
            "\n"
          ]
        }
      ]
    },
    {
      "cell_type": "code",
      "source": [],
      "metadata": {
        "id": "50KB0Ch1lL9T"
      },
      "execution_count": null,
      "outputs": []
    }
  ]
}